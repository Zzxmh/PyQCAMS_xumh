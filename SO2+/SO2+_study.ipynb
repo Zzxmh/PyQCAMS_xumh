{
 "cells": [
  {
   "cell_type": "code",
   "execution_count": 1,
   "id": "580091f4",
   "metadata": {},
   "outputs": [],
   "source": [
    "%matplotlib notebook"
   ]
  },
  {
   "cell_type": "code",
   "execution_count": 2,
   "id": "5e72dd0d",
   "metadata": {},
   "outputs": [
    {
     "name": "stdout",
     "output_type": "stream",
     "text": [
      "['e:\\\\tasks\\\\documents_in_pku\\\\research\\\\Roaming_NN\\\\QCAT\\\\SO2+', 'c:\\\\Users\\\\xumohan\\\\anaconda3\\\\envs\\\\py10\\\\python310.zip', 'c:\\\\Users\\\\xumohan\\\\anaconda3\\\\envs\\\\py10\\\\DLLs', 'c:\\\\Users\\\\xumohan\\\\anaconda3\\\\envs\\\\py10\\\\lib', 'c:\\\\Users\\\\xumohan\\\\anaconda3\\\\envs\\\\py10', '', 'c:\\\\Users\\\\xumohan\\\\anaconda3\\\\envs\\\\py10\\\\lib\\\\site-packages', 'c:\\\\Users\\\\xumohan\\\\anaconda3\\\\envs\\\\py10\\\\lib\\\\site-packages\\\\win32', 'c:\\\\Users\\\\xumohan\\\\anaconda3\\\\envs\\\\py10\\\\lib\\\\site-packages\\\\win32\\\\lib', 'c:\\\\Users\\\\xumohan\\\\anaconda3\\\\envs\\\\py10\\\\lib\\\\site-packages\\\\Pythonwin', 'e:\\\\tasks\\\\documents_in_pku\\\\research\\\\Roaming_NN\\\\QCAT', 'e:\\\\tasks\\\\documents_in_pku\\\\research\\\\Roaming_NN\\\\QCAT\\\\pyqcams']\n"
     ]
    }
   ],
   "source": [
    "import numpy as np\n",
    "import pandas as pd\n",
    "import time\n",
    "import sys\n",
    "import os\n",
    "import matplotlib.pyplot as plt\n",
    "from scipy import integrate\n",
    "sys.path.append(os.path.abspath(\"e:\\\\tasks\\\\documents_in_pku\\\\research\\\\Roaming_NN\\\\QCAT\"))\n",
    "sys.path.append(os.path.abspath(\"e:\\\\tasks\\\\documents_in_pku\\\\research\\\\Roaming_NN\\\\QCAT\\\\pyqcams\"))\n",
    "print(sys.path)\n",
    "from pyqcams import qct, constants, potentials, plotters, util, analysis\n",
    "import warnings\n",
    "import torch\n",
    "import logging\n",
    "# Get the absolute path to the parent directory containing pyqcams\n"
   ]
  },
  {
   "cell_type": "code",
   "execution_count": 3,
   "id": "2a7137c8",
   "metadata": {},
   "outputs": [],
   "source": [
    "# Paths to the MLP model and scaler\n",
    "model_path = r'E:\\tasks\\documents_in_pku\\research\\Roaming_NN\\QCAT\\NN\\results\\best_model.pth'   \n",
    "\n",
    "# 定义质量单位\n",
    "m1 = constants.mass_O * constants.u2me  # Oxygen\n",
    "m2 = constants.mass_O * constants.u2me  # Oxygen\n",
    "m3 = constants.mass_S * constants.u2me  # Sulfur\n",
    "\n",
    "E0 = 40000 * constants.K2Har # Collision energy (K)\n",
    "b0 = 0      # Impact parameter\n",
    "R0 = 50     # Initial distance in Bohr\n",
    "\n",
    "# 加载已训练的模型\n",
    "input_dim = 3\n",
    "neuron = 64\n",
    "process_param_l = 1.5  # 确保与训练时一致\n",
    "# Load MLP model\n",
    "model = potentials.load_MLP_model(model_path, input_dim, neuron,process_param_l)\n"
   ]
  },
  {
   "cell_type": "markdown",
   "id": "71dc82df",
   "metadata": {},
   "source": [
    "# Run one trajectory\n",
    "## Input Dictionary\n",
    "This is an example input for the reaction `H$_2$ + Ca $\\rightarrow$ CaH + H`, where `H$_2$` is initialized in the v=3, j=3 state. The dictionary can be imported from the `inputs.py` file, or written directly as shown here.\n",
    "\n",
    "First, create the QCT calculation input dictionary, which requires masses `mi`, collision energy `E0`, impact parameter `b0`, initial distance `R0`, all three `Molecule` objects `mol_ij`, 3-body potential `vt` and partial derivatives `dvtdrij`, and integration parameters `integ`. \n",
    "\n",
    "The `Molecule` object requires the respective masses `mi, mj`, diatiomic potential `Vij` and its derivative `dVij`, and range `xmin`,`xmax`. The molecule formed between atoms 1 and 2 is the initial molecule, thus needs initial rovibrational state (`vi`,`ji`), and number of DVR points `npts`. If the vibrational energy spectrum is known, `vi` and `npts` can be replaced by the keyword argument `Ei` in Hartree. "
   ]
  },
  {
   "cell_type": "code",
   "execution_count": 4,
   "id": "5e61b09b",
   "metadata": {},
   "outputs": [],
   "source": [
    "# 初始化 Molecule 实例，传递模型而不是 Vij 和 dVij\n",
    "v12,dv12=potentials.morse(de = 6.08/constants.Har2ev, re = 1.40104284795, alpha = 2.97) # O2\n",
    "v23,dv23=potentials.morse(de = 6.41/constants.Har2ev, re = 1.481, alpha = 6.54) # SO\n",
    "v31,dv31=potentials.morse(de = 6.41/constants.Har2ev, re = 1.481, alpha = 6.54) # SO\n",
    "mol12 = qct.Molecule(\n",
    "    potential_type='analytical',\n",
    "    mi=m1,\n",
    "    mj=m2,\n",
    "    vi=3,\n",
    "    ji=3,\n",
    "    Vij = v12, dVij = dv12,\n",
    "    Ei=None,  # Set if initial energy is known\n",
    "    xmin=0.5,\n",
    "    xmax=30,\n",
    "    npts=1000\n",
    ")  # O2+\n",
    "\n",
    "mol23 = qct.Molecule(\n",
    "    potential_type='analytical',\n",
    "    mi=m2,\n",
    "    mj=m3,\n",
    "    Vij = v23, dVij = dv23,\n",
    "    xmin=0.5,\n",
    "    xmax=30,\n",
    "    npts=1000\n",
    ")  # SO+\n",
    "\n",
    "mol31 = qct.Molecule(\n",
    "    potential_type='analytical',\n",
    "    mi=m3,\n",
    "    mj=m1,\n",
    "    Vij = v31, dVij = dv31,\n",
    "    Ei=None,  # Set if initial energy is known\n",
    "    xmin=0.5,\n",
    "    xmax=30,\n",
    "    npts=1000\n",
    ")  # SO+\n",
    "\n",
    "v123, dv123dr12, dv123dr23, dv123dr31 = potentials.mlp_potential_function(model) # SO2+\n",
    "\n",
    "input_dict = {\n",
    "    'm1': m1, 'm2': m2, 'm3': m3,\n",
    "    'E0': E0, 'b0': b0, 'R0': R0, 'seed': None,\n",
    "    'mol_12': mol12, 'mol_23': mol23, 'mol_31': mol31,\n",
    "    'vt': v123, 'dvtdr12': dv123dr12, 'dvtdr23': dv123dr23, 'dvtdr31': dv123dr31,\n",
    "    'integ': {'t_stop': 4, 'r_stop': 2, 'r_tol': 1e-10, 'a_tol':1e-8, 'econs':1e-5, 'lcons':1e-5}\n",
    "}"
   ]
  },
  {
   "cell_type": "markdown",
   "id": "0c0e1d5b",
   "metadata": {},
   "source": [
    "## Study Potential Energy Curves\n",
    "Before we run the trajectory, we should examine the potential functions describing the 3 potential molecules. We can calculate the energy spectrum of H2 using `Molecules.DVR`, and we can also plot the energy level."
   ]
  },
  {
   "cell_type": "code",
   "execution_count": 5,
   "id": "ccda5f1d",
   "metadata": {},
   "outputs": [
    {
     "name": "stdout",
     "output_type": "stream",
     "text": [
      "1\n",
      "1\n",
      "1\n",
      "1\n"
     ]
    }
   ],
   "source": [
    "mol12.DVR()  # Energy spectrum\n",
    "mol12.turningPts(initial=True)  # Set classical turning points"
   ]
  },
  {
   "cell_type": "code",
   "execution_count": 6,
   "id": "d7ae00c0",
   "metadata": {},
   "outputs": [
    {
     "data": {
      "application/javascript": "/* Put everything inside the global mpl namespace */\n/* global mpl */\nwindow.mpl = {};\n\nmpl.get_websocket_type = function () {\n    if (typeof WebSocket !== 'undefined') {\n        return WebSocket;\n    } else if (typeof MozWebSocket !== 'undefined') {\n        return MozWebSocket;\n    } else {\n        alert(\n            'Your browser does not have WebSocket support. ' +\n                'Please try Chrome, Safari or Firefox ≥ 6. ' +\n                'Firefox 4 and 5 are also supported but you ' +\n                'have to enable WebSockets in about:config.'\n        );\n    }\n};\n\nmpl.figure = function (figure_id, websocket, ondownload, parent_element) {\n    this.id = figure_id;\n\n    this.ws = websocket;\n\n    this.supports_binary = this.ws.binaryType !== undefined;\n\n    if (!this.supports_binary) {\n        var warnings = document.getElementById('mpl-warnings');\n        if (warnings) {\n            warnings.style.display = 'block';\n            warnings.textContent =\n                'This browser does not support binary websocket messages. ' +\n                'Performance may be slow.';\n        }\n    }\n\n    this.imageObj = new Image();\n\n    this.context = undefined;\n    this.message = undefined;\n    this.canvas = undefined;\n    this.rubberband_canvas = undefined;\n    this.rubberband_context = undefined;\n    this.format_dropdown = undefined;\n\n    this.image_mode = 'full';\n\n    this.root = document.createElement('div');\n    this.root.setAttribute('style', 'display: inline-block');\n    this._root_extra_style(this.root);\n\n    parent_element.appendChild(this.root);\n\n    this._init_header(this);\n    this._init_canvas(this);\n    this._init_toolbar(this);\n\n    var fig = this;\n\n    this.waiting = false;\n\n    this.ws.onopen = function () {\n        fig.send_message('supports_binary', { value: fig.supports_binary });\n        fig.send_message('send_image_mode', {});\n        if (fig.ratio !== 1) {\n            fig.send_message('set_device_pixel_ratio', {\n                device_pixel_ratio: fig.ratio,\n            });\n        }\n        fig.send_message('refresh', {});\n    };\n\n    this.imageObj.onload = function () {\n        if (fig.image_mode === 'full') {\n            // Full images could contain transparency (where diff images\n            // almost always do), so we need to clear the canvas so that\n            // there is no ghosting.\n            fig.context.clearRect(0, 0, fig.canvas.width, fig.canvas.height);\n        }\n        fig.context.drawImage(fig.imageObj, 0, 0);\n    };\n\n    this.imageObj.onunload = function () {\n        fig.ws.close();\n    };\n\n    this.ws.onmessage = this._make_on_message_function(this);\n\n    this.ondownload = ondownload;\n};\n\nmpl.figure.prototype._init_header = function () {\n    var titlebar = document.createElement('div');\n    titlebar.classList =\n        'ui-dialog-titlebar ui-widget-header ui-corner-all ui-helper-clearfix';\n    var titletext = document.createElement('div');\n    titletext.classList = 'ui-dialog-title';\n    titletext.setAttribute(\n        'style',\n        'width: 100%; text-align: center; padding: 3px;'\n    );\n    titlebar.appendChild(titletext);\n    this.root.appendChild(titlebar);\n    this.header = titletext;\n};\n\nmpl.figure.prototype._canvas_extra_style = function (_canvas_div) {};\n\nmpl.figure.prototype._root_extra_style = function (_canvas_div) {};\n\nmpl.figure.prototype._init_canvas = function () {\n    var fig = this;\n\n    var canvas_div = (this.canvas_div = document.createElement('div'));\n    canvas_div.setAttribute('tabindex', '0');\n    canvas_div.setAttribute(\n        'style',\n        'border: 1px solid #ddd;' +\n            'box-sizing: content-box;' +\n            'clear: both;' +\n            'min-height: 1px;' +\n            'min-width: 1px;' +\n            'outline: 0;' +\n            'overflow: hidden;' +\n            'position: relative;' +\n            'resize: both;' +\n            'z-index: 2;'\n    );\n\n    function on_keyboard_event_closure(name) {\n        return function (event) {\n            return fig.key_event(event, name);\n        };\n    }\n\n    canvas_div.addEventListener(\n        'keydown',\n        on_keyboard_event_closure('key_press')\n    );\n    canvas_div.addEventListener(\n        'keyup',\n        on_keyboard_event_closure('key_release')\n    );\n\n    this._canvas_extra_style(canvas_div);\n    this.root.appendChild(canvas_div);\n\n    var canvas = (this.canvas = document.createElement('canvas'));\n    canvas.classList.add('mpl-canvas');\n    canvas.setAttribute(\n        'style',\n        'box-sizing: content-box;' +\n            'pointer-events: none;' +\n            'position: relative;' +\n            'z-index: 0;'\n    );\n\n    this.context = canvas.getContext('2d');\n\n    var backingStore =\n        this.context.backingStorePixelRatio ||\n        this.context.webkitBackingStorePixelRatio ||\n        this.context.mozBackingStorePixelRatio ||\n        this.context.msBackingStorePixelRatio ||\n        this.context.oBackingStorePixelRatio ||\n        this.context.backingStorePixelRatio ||\n        1;\n\n    this.ratio = (window.devicePixelRatio || 1) / backingStore;\n\n    var rubberband_canvas = (this.rubberband_canvas = document.createElement(\n        'canvas'\n    ));\n    rubberband_canvas.setAttribute(\n        'style',\n        'box-sizing: content-box;' +\n            'left: 0;' +\n            'pointer-events: none;' +\n            'position: absolute;' +\n            'top: 0;' +\n            'z-index: 1;'\n    );\n\n    // Apply a ponyfill if ResizeObserver is not implemented by browser.\n    if (this.ResizeObserver === undefined) {\n        if (window.ResizeObserver !== undefined) {\n            this.ResizeObserver = window.ResizeObserver;\n        } else {\n            var obs = _JSXTOOLS_RESIZE_OBSERVER({});\n            this.ResizeObserver = obs.ResizeObserver;\n        }\n    }\n\n    this.resizeObserverInstance = new this.ResizeObserver(function (entries) {\n        var nentries = entries.length;\n        for (var i = 0; i < nentries; i++) {\n            var entry = entries[i];\n            var width, height;\n            if (entry.contentBoxSize) {\n                if (entry.contentBoxSize instanceof Array) {\n                    // Chrome 84 implements new version of spec.\n                    width = entry.contentBoxSize[0].inlineSize;\n                    height = entry.contentBoxSize[0].blockSize;\n                } else {\n                    // Firefox implements old version of spec.\n                    width = entry.contentBoxSize.inlineSize;\n                    height = entry.contentBoxSize.blockSize;\n                }\n            } else {\n                // Chrome <84 implements even older version of spec.\n                width = entry.contentRect.width;\n                height = entry.contentRect.height;\n            }\n\n            // Keep the size of the canvas and rubber band canvas in sync with\n            // the canvas container.\n            if (entry.devicePixelContentBoxSize) {\n                // Chrome 84 implements new version of spec.\n                canvas.setAttribute(\n                    'width',\n                    entry.devicePixelContentBoxSize[0].inlineSize\n                );\n                canvas.setAttribute(\n                    'height',\n                    entry.devicePixelContentBoxSize[0].blockSize\n                );\n            } else {\n                canvas.setAttribute('width', width * fig.ratio);\n                canvas.setAttribute('height', height * fig.ratio);\n            }\n            /* This rescales the canvas back to display pixels, so that it\n             * appears correct on HiDPI screens. */\n            canvas.style.width = width + 'px';\n            canvas.style.height = height + 'px';\n\n            rubberband_canvas.setAttribute('width', width);\n            rubberband_canvas.setAttribute('height', height);\n\n            // And update the size in Python. We ignore the initial 0/0 size\n            // that occurs as the element is placed into the DOM, which should\n            // otherwise not happen due to the minimum size styling.\n            if (fig.ws.readyState == 1 && width != 0 && height != 0) {\n                fig.request_resize(width, height);\n            }\n        }\n    });\n    this.resizeObserverInstance.observe(canvas_div);\n\n    function on_mouse_event_closure(name) {\n        /* User Agent sniffing is bad, but WebKit is busted:\n         * https://bugs.webkit.org/show_bug.cgi?id=144526\n         * https://bugs.webkit.org/show_bug.cgi?id=181818\n         * The worst that happens here is that they get an extra browser\n         * selection when dragging, if this check fails to catch them.\n         */\n        var UA = navigator.userAgent;\n        var isWebKit = /AppleWebKit/.test(UA) && !/Chrome/.test(UA);\n        if(isWebKit) {\n            return function (event) {\n                /* This prevents the web browser from automatically changing to\n                 * the text insertion cursor when the button is pressed. We\n                 * want to control all of the cursor setting manually through\n                 * the 'cursor' event from matplotlib */\n                event.preventDefault()\n                return fig.mouse_event(event, name);\n            };\n        } else {\n            return function (event) {\n                return fig.mouse_event(event, name);\n            };\n        }\n    }\n\n    canvas_div.addEventListener(\n        'mousedown',\n        on_mouse_event_closure('button_press')\n    );\n    canvas_div.addEventListener(\n        'mouseup',\n        on_mouse_event_closure('button_release')\n    );\n    canvas_div.addEventListener(\n        'dblclick',\n        on_mouse_event_closure('dblclick')\n    );\n    // Throttle sequential mouse events to 1 every 20ms.\n    canvas_div.addEventListener(\n        'mousemove',\n        on_mouse_event_closure('motion_notify')\n    );\n\n    canvas_div.addEventListener(\n        'mouseenter',\n        on_mouse_event_closure('figure_enter')\n    );\n    canvas_div.addEventListener(\n        'mouseleave',\n        on_mouse_event_closure('figure_leave')\n    );\n\n    canvas_div.addEventListener('wheel', function (event) {\n        if (event.deltaY < 0) {\n            event.step = 1;\n        } else {\n            event.step = -1;\n        }\n        on_mouse_event_closure('scroll')(event);\n    });\n\n    canvas_div.appendChild(canvas);\n    canvas_div.appendChild(rubberband_canvas);\n\n    this.rubberband_context = rubberband_canvas.getContext('2d');\n    this.rubberband_context.strokeStyle = '#000000';\n\n    this._resize_canvas = function (width, height, forward) {\n        if (forward) {\n            canvas_div.style.width = width + 'px';\n            canvas_div.style.height = height + 'px';\n        }\n    };\n\n    // Disable right mouse context menu.\n    canvas_div.addEventListener('contextmenu', function (_e) {\n        event.preventDefault();\n        return false;\n    });\n\n    function set_focus() {\n        canvas.focus();\n        canvas_div.focus();\n    }\n\n    window.setTimeout(set_focus, 100);\n};\n\nmpl.figure.prototype._init_toolbar = function () {\n    var fig = this;\n\n    var toolbar = document.createElement('div');\n    toolbar.classList = 'mpl-toolbar';\n    this.root.appendChild(toolbar);\n\n    function on_click_closure(name) {\n        return function (_event) {\n            return fig.toolbar_button_onclick(name);\n        };\n    }\n\n    function on_mouseover_closure(tooltip) {\n        return function (event) {\n            if (!event.currentTarget.disabled) {\n                return fig.toolbar_button_onmouseover(tooltip);\n            }\n        };\n    }\n\n    fig.buttons = {};\n    var buttonGroup = document.createElement('div');\n    buttonGroup.classList = 'mpl-button-group';\n    for (var toolbar_ind in mpl.toolbar_items) {\n        var name = mpl.toolbar_items[toolbar_ind][0];\n        var tooltip = mpl.toolbar_items[toolbar_ind][1];\n        var image = mpl.toolbar_items[toolbar_ind][2];\n        var method_name = mpl.toolbar_items[toolbar_ind][3];\n\n        if (!name) {\n            /* Instead of a spacer, we start a new button group. */\n            if (buttonGroup.hasChildNodes()) {\n                toolbar.appendChild(buttonGroup);\n            }\n            buttonGroup = document.createElement('div');\n            buttonGroup.classList = 'mpl-button-group';\n            continue;\n        }\n\n        var button = (fig.buttons[name] = document.createElement('button'));\n        button.classList = 'mpl-widget';\n        button.setAttribute('role', 'button');\n        button.setAttribute('aria-disabled', 'false');\n        button.addEventListener('click', on_click_closure(method_name));\n        button.addEventListener('mouseover', on_mouseover_closure(tooltip));\n\n        var icon_img = document.createElement('img');\n        icon_img.src = '_images/' + image + '.png';\n        icon_img.srcset = '_images/' + image + '_large.png 2x';\n        icon_img.alt = tooltip;\n        button.appendChild(icon_img);\n\n        buttonGroup.appendChild(button);\n    }\n\n    if (buttonGroup.hasChildNodes()) {\n        toolbar.appendChild(buttonGroup);\n    }\n\n    var fmt_picker = document.createElement('select');\n    fmt_picker.classList = 'mpl-widget';\n    toolbar.appendChild(fmt_picker);\n    this.format_dropdown = fmt_picker;\n\n    for (var ind in mpl.extensions) {\n        var fmt = mpl.extensions[ind];\n        var option = document.createElement('option');\n        option.selected = fmt === mpl.default_extension;\n        option.innerHTML = fmt;\n        fmt_picker.appendChild(option);\n    }\n\n    var status_bar = document.createElement('span');\n    status_bar.classList = 'mpl-message';\n    toolbar.appendChild(status_bar);\n    this.message = status_bar;\n};\n\nmpl.figure.prototype.request_resize = function (x_pixels, y_pixels) {\n    // Request matplotlib to resize the figure. Matplotlib will then trigger a resize in the client,\n    // which will in turn request a refresh of the image.\n    this.send_message('resize', { width: x_pixels, height: y_pixels });\n};\n\nmpl.figure.prototype.send_message = function (type, properties) {\n    properties['type'] = type;\n    properties['figure_id'] = this.id;\n    this.ws.send(JSON.stringify(properties));\n};\n\nmpl.figure.prototype.send_draw_message = function () {\n    if (!this.waiting) {\n        this.waiting = true;\n        this.ws.send(JSON.stringify({ type: 'draw', figure_id: this.id }));\n    }\n};\n\nmpl.figure.prototype.handle_save = function (fig, _msg) {\n    var format_dropdown = fig.format_dropdown;\n    var format = format_dropdown.options[format_dropdown.selectedIndex].value;\n    fig.ondownload(fig, format);\n};\n\nmpl.figure.prototype.handle_resize = function (fig, msg) {\n    var size = msg['size'];\n    if (size[0] !== fig.canvas.width || size[1] !== fig.canvas.height) {\n        fig._resize_canvas(size[0], size[1], msg['forward']);\n        fig.send_message('refresh', {});\n    }\n};\n\nmpl.figure.prototype.handle_rubberband = function (fig, msg) {\n    var x0 = msg['x0'] / fig.ratio;\n    var y0 = (fig.canvas.height - msg['y0']) / fig.ratio;\n    var x1 = msg['x1'] / fig.ratio;\n    var y1 = (fig.canvas.height - msg['y1']) / fig.ratio;\n    x0 = Math.floor(x0) + 0.5;\n    y0 = Math.floor(y0) + 0.5;\n    x1 = Math.floor(x1) + 0.5;\n    y1 = Math.floor(y1) + 0.5;\n    var min_x = Math.min(x0, x1);\n    var min_y = Math.min(y0, y1);\n    var width = Math.abs(x1 - x0);\n    var height = Math.abs(y1 - y0);\n\n    fig.rubberband_context.clearRect(\n        0,\n        0,\n        fig.canvas.width / fig.ratio,\n        fig.canvas.height / fig.ratio\n    );\n\n    fig.rubberband_context.strokeRect(min_x, min_y, width, height);\n};\n\nmpl.figure.prototype.handle_figure_label = function (fig, msg) {\n    // Updates the figure title.\n    fig.header.textContent = msg['label'];\n};\n\nmpl.figure.prototype.handle_cursor = function (fig, msg) {\n    fig.canvas_div.style.cursor = msg['cursor'];\n};\n\nmpl.figure.prototype.handle_message = function (fig, msg) {\n    fig.message.textContent = msg['message'];\n};\n\nmpl.figure.prototype.handle_draw = function (fig, _msg) {\n    // Request the server to send over a new figure.\n    fig.send_draw_message();\n};\n\nmpl.figure.prototype.handle_image_mode = function (fig, msg) {\n    fig.image_mode = msg['mode'];\n};\n\nmpl.figure.prototype.handle_history_buttons = function (fig, msg) {\n    for (var key in msg) {\n        if (!(key in fig.buttons)) {\n            continue;\n        }\n        fig.buttons[key].disabled = !msg[key];\n        fig.buttons[key].setAttribute('aria-disabled', !msg[key]);\n    }\n};\n\nmpl.figure.prototype.handle_navigate_mode = function (fig, msg) {\n    if (msg['mode'] === 'PAN') {\n        fig.buttons['Pan'].classList.add('active');\n        fig.buttons['Zoom'].classList.remove('active');\n    } else if (msg['mode'] === 'ZOOM') {\n        fig.buttons['Pan'].classList.remove('active');\n        fig.buttons['Zoom'].classList.add('active');\n    } else {\n        fig.buttons['Pan'].classList.remove('active');\n        fig.buttons['Zoom'].classList.remove('active');\n    }\n};\n\nmpl.figure.prototype.updated_canvas_event = function () {\n    // Called whenever the canvas gets updated.\n    this.send_message('ack', {});\n};\n\n// A function to construct a web socket function for onmessage handling.\n// Called in the figure constructor.\nmpl.figure.prototype._make_on_message_function = function (fig) {\n    return function socket_on_message(evt) {\n        if (evt.data instanceof Blob) {\n            var img = evt.data;\n            if (img.type !== 'image/png') {\n                /* FIXME: We get \"Resource interpreted as Image but\n                 * transferred with MIME type text/plain:\" errors on\n                 * Chrome.  But how to set the MIME type?  It doesn't seem\n                 * to be part of the websocket stream */\n                img.type = 'image/png';\n            }\n\n            /* Free the memory for the previous frames */\n            if (fig.imageObj.src) {\n                (window.URL || window.webkitURL).revokeObjectURL(\n                    fig.imageObj.src\n                );\n            }\n\n            fig.imageObj.src = (window.URL || window.webkitURL).createObjectURL(\n                img\n            );\n            fig.updated_canvas_event();\n            fig.waiting = false;\n            return;\n        } else if (\n            typeof evt.data === 'string' &&\n            evt.data.slice(0, 21) === 'data:image/png;base64'\n        ) {\n            fig.imageObj.src = evt.data;\n            fig.updated_canvas_event();\n            fig.waiting = false;\n            return;\n        }\n\n        var msg = JSON.parse(evt.data);\n        var msg_type = msg['type'];\n\n        // Call the  \"handle_{type}\" callback, which takes\n        // the figure and JSON message as its only arguments.\n        try {\n            var callback = fig['handle_' + msg_type];\n        } catch (e) {\n            console.log(\n                \"No handler for the '\" + msg_type + \"' message type: \",\n                msg\n            );\n            return;\n        }\n\n        if (callback) {\n            try {\n                // console.log(\"Handling '\" + msg_type + \"' message: \", msg);\n                callback(fig, msg);\n            } catch (e) {\n                console.log(\n                    \"Exception inside the 'handler_\" + msg_type + \"' callback:\",\n                    e,\n                    e.stack,\n                    msg\n                );\n            }\n        }\n    };\n};\n\nfunction getModifiers(event) {\n    var mods = [];\n    if (event.ctrlKey) {\n        mods.push('ctrl');\n    }\n    if (event.altKey) {\n        mods.push('alt');\n    }\n    if (event.shiftKey) {\n        mods.push('shift');\n    }\n    if (event.metaKey) {\n        mods.push('meta');\n    }\n    return mods;\n}\n\n/*\n * return a copy of an object with only non-object keys\n * we need this to avoid circular references\n * https://stackoverflow.com/a/24161582/3208463\n */\nfunction simpleKeys(original) {\n    return Object.keys(original).reduce(function (obj, key) {\n        if (typeof original[key] !== 'object') {\n            obj[key] = original[key];\n        }\n        return obj;\n    }, {});\n}\n\nmpl.figure.prototype.mouse_event = function (event, name) {\n    if (name === 'button_press') {\n        this.canvas.focus();\n        this.canvas_div.focus();\n    }\n\n    // from https://stackoverflow.com/q/1114465\n    var boundingRect = this.canvas.getBoundingClientRect();\n    var x = (event.clientX - boundingRect.left) * this.ratio;\n    var y = (event.clientY - boundingRect.top) * this.ratio;\n\n    this.send_message(name, {\n        x: x,\n        y: y,\n        button: event.button,\n        step: event.step,\n        modifiers: getModifiers(event),\n        guiEvent: simpleKeys(event),\n    });\n\n    return false;\n};\n\nmpl.figure.prototype._key_event_extra = function (_event, _name) {\n    // Handle any extra behaviour associated with a key event\n};\n\nmpl.figure.prototype.key_event = function (event, name) {\n    // Prevent repeat events\n    if (name === 'key_press') {\n        if (event.key === this._key) {\n            return;\n        } else {\n            this._key = event.key;\n        }\n    }\n    if (name === 'key_release') {\n        this._key = null;\n    }\n\n    var value = '';\n    if (event.ctrlKey && event.key !== 'Control') {\n        value += 'ctrl+';\n    }\n    else if (event.altKey && event.key !== 'Alt') {\n        value += 'alt+';\n    }\n    else if (event.shiftKey && event.key !== 'Shift') {\n        value += 'shift+';\n    }\n\n    value += 'k' + event.key;\n\n    this._key_event_extra(event, name);\n\n    this.send_message(name, { key: value, guiEvent: simpleKeys(event) });\n    return false;\n};\n\nmpl.figure.prototype.toolbar_button_onclick = function (name) {\n    if (name === 'download') {\n        this.handle_save(this, null);\n    } else {\n        this.send_message('toolbar_button', { name: name });\n    }\n};\n\nmpl.figure.prototype.toolbar_button_onmouseover = function (tooltip) {\n    this.message.textContent = tooltip;\n};\n\n///////////////// REMAINING CONTENT GENERATED BY embed_js.py /////////////////\n// prettier-ignore\nvar _JSXTOOLS_RESIZE_OBSERVER=function(A){var t,i=new WeakMap,n=new WeakMap,a=new WeakMap,r=new WeakMap,o=new Set;function s(e){if(!(this instanceof s))throw new TypeError(\"Constructor requires 'new' operator\");i.set(this,e)}function h(){throw new TypeError(\"Function is not a constructor\")}function c(e,t,i,n){e=0 in arguments?Number(arguments[0]):0,t=1 in arguments?Number(arguments[1]):0,i=2 in arguments?Number(arguments[2]):0,n=3 in arguments?Number(arguments[3]):0,this.right=(this.x=this.left=e)+(this.width=i),this.bottom=(this.y=this.top=t)+(this.height=n),Object.freeze(this)}function d(){t=requestAnimationFrame(d);var s=new WeakMap,p=new Set;o.forEach((function(t){r.get(t).forEach((function(i){var r=t instanceof window.SVGElement,o=a.get(t),d=r?0:parseFloat(o.paddingTop),f=r?0:parseFloat(o.paddingRight),l=r?0:parseFloat(o.paddingBottom),u=r?0:parseFloat(o.paddingLeft),g=r?0:parseFloat(o.borderTopWidth),m=r?0:parseFloat(o.borderRightWidth),w=r?0:parseFloat(o.borderBottomWidth),b=u+f,F=d+l,v=(r?0:parseFloat(o.borderLeftWidth))+m,W=g+w,y=r?0:t.offsetHeight-W-t.clientHeight,E=r?0:t.offsetWidth-v-t.clientWidth,R=b+v,z=F+W,M=r?t.width:parseFloat(o.width)-R-E,O=r?t.height:parseFloat(o.height)-z-y;if(n.has(t)){var k=n.get(t);if(k[0]===M&&k[1]===O)return}n.set(t,[M,O]);var S=Object.create(h.prototype);S.target=t,S.contentRect=new c(u,d,M,O),s.has(i)||(s.set(i,[]),p.add(i)),s.get(i).push(S)}))})),p.forEach((function(e){i.get(e).call(e,s.get(e),e)}))}return s.prototype.observe=function(i){if(i instanceof window.Element){r.has(i)||(r.set(i,new Set),o.add(i),a.set(i,window.getComputedStyle(i)));var n=r.get(i);n.has(this)||n.add(this),cancelAnimationFrame(t),t=requestAnimationFrame(d)}},s.prototype.unobserve=function(i){if(i instanceof window.Element&&r.has(i)){var n=r.get(i);n.has(this)&&(n.delete(this),n.size||(r.delete(i),o.delete(i))),n.size||r.delete(i),o.size||cancelAnimationFrame(t)}},A.DOMRectReadOnly=c,A.ResizeObserver=s,A.ResizeObserverEntry=h,A}; // eslint-disable-line\nmpl.toolbar_items = [[\"Home\", \"Reset original view\", \"fa fa-home\", \"home\"], [\"Back\", \"Back to previous view\", \"fa fa-arrow-left\", \"back\"], [\"Forward\", \"Forward to next view\", \"fa fa-arrow-right\", \"forward\"], [\"\", \"\", \"\", \"\"], [\"Pan\", \"Left button pans, Right button zooms\\nx/y fixes axis, CTRL fixes aspect\", \"fa fa-arrows\", \"pan\"], [\"Zoom\", \"Zoom to rectangle\\nx/y fixes axis\", \"fa fa-square-o\", \"zoom\"], [\"\", \"\", \"\", \"\"], [\"Download\", \"Download plot\", \"fa fa-floppy-o\", \"download\"]];\n\nmpl.extensions = [\"eps\", \"jpeg\", \"pgf\", \"pdf\", \"png\", \"ps\", \"raw\", \"svg\", \"tif\", \"webp\"];\n\nmpl.default_extension = \"png\";/* global mpl */\n\nvar comm_websocket_adapter = function (comm) {\n    // Create a \"websocket\"-like object which calls the given IPython comm\n    // object with the appropriate methods. Currently this is a non binary\n    // socket, so there is still some room for performance tuning.\n    var ws = {};\n\n    ws.binaryType = comm.kernel.ws.binaryType;\n    ws.readyState = comm.kernel.ws.readyState;\n    function updateReadyState(_event) {\n        if (comm.kernel.ws) {\n            ws.readyState = comm.kernel.ws.readyState;\n        } else {\n            ws.readyState = 3; // Closed state.\n        }\n    }\n    comm.kernel.ws.addEventListener('open', updateReadyState);\n    comm.kernel.ws.addEventListener('close', updateReadyState);\n    comm.kernel.ws.addEventListener('error', updateReadyState);\n\n    ws.close = function () {\n        comm.close();\n    };\n    ws.send = function (m) {\n        //console.log('sending', m);\n        comm.send(m);\n    };\n    // Register the callback with on_msg.\n    comm.on_msg(function (msg) {\n        //console.log('receiving', msg['content']['data'], msg);\n        var data = msg['content']['data'];\n        if (data['blob'] !== undefined) {\n            data = {\n                data: new Blob(msg['buffers'], { type: data['blob'] }),\n            };\n        }\n        // Pass the mpl event to the overridden (by mpl) onmessage function.\n        ws.onmessage(data);\n    });\n    return ws;\n};\n\nmpl.mpl_figure_comm = function (comm, msg) {\n    // This is the function which gets called when the mpl process\n    // starts-up an IPython Comm through the \"matplotlib\" channel.\n\n    var id = msg.content.data.id;\n    // Get hold of the div created by the display call when the Comm\n    // socket was opened in Python.\n    var element = document.getElementById(id);\n    var ws_proxy = comm_websocket_adapter(comm);\n\n    function ondownload(figure, _format) {\n        window.open(figure.canvas.toDataURL());\n    }\n\n    var fig = new mpl.figure(id, ws_proxy, ondownload, element);\n\n    // Call onopen now - mpl needs it, as it is assuming we've passed it a real\n    // web socket which is closed, not our websocket->open comm proxy.\n    ws_proxy.onopen();\n\n    fig.parent_element = element;\n    fig.cell_info = mpl.find_output_cell(\"<div id='\" + id + \"'></div>\");\n    if (!fig.cell_info) {\n        console.error('Failed to find cell for figure', id, fig);\n        return;\n    }\n    fig.cell_info[0].output_area.element.on(\n        'cleared',\n        { fig: fig },\n        fig._remove_fig_handler\n    );\n};\n\nmpl.figure.prototype.handle_close = function (fig, msg) {\n    var width = fig.canvas.width / fig.ratio;\n    fig.cell_info[0].output_area.element.off(\n        'cleared',\n        fig._remove_fig_handler\n    );\n    fig.resizeObserverInstance.unobserve(fig.canvas_div);\n\n    // Update the output cell to use the data from the current canvas.\n    fig.push_to_output();\n    var dataURL = fig.canvas.toDataURL();\n    // Re-enable the keyboard manager in IPython - without this line, in FF,\n    // the notebook keyboard shortcuts fail.\n    IPython.keyboard_manager.enable();\n    fig.parent_element.innerHTML =\n        '<img src=\"' + dataURL + '\" width=\"' + width + '\">';\n    fig.close_ws(fig, msg);\n};\n\nmpl.figure.prototype.close_ws = function (fig, msg) {\n    fig.send_message('closing', msg);\n    // fig.ws.close()\n};\n\nmpl.figure.prototype.push_to_output = function (_remove_interactive) {\n    // Turn the data on the canvas into data in the output cell.\n    var width = this.canvas.width / this.ratio;\n    var dataURL = this.canvas.toDataURL();\n    this.cell_info[1]['text/html'] =\n        '<img src=\"' + dataURL + '\" width=\"' + width + '\">';\n};\n\nmpl.figure.prototype.updated_canvas_event = function () {\n    // Tell IPython that the notebook contents must change.\n    IPython.notebook.set_dirty(true);\n    this.send_message('ack', {});\n    var fig = this;\n    // Wait a second, then push the new image to the DOM so\n    // that it is saved nicely (might be nice to debounce this).\n    setTimeout(function () {\n        fig.push_to_output();\n    }, 1000);\n};\n\nmpl.figure.prototype._init_toolbar = function () {\n    var fig = this;\n\n    var toolbar = document.createElement('div');\n    toolbar.classList = 'btn-toolbar';\n    this.root.appendChild(toolbar);\n\n    function on_click_closure(name) {\n        return function (_event) {\n            return fig.toolbar_button_onclick(name);\n        };\n    }\n\n    function on_mouseover_closure(tooltip) {\n        return function (event) {\n            if (!event.currentTarget.disabled) {\n                return fig.toolbar_button_onmouseover(tooltip);\n            }\n        };\n    }\n\n    fig.buttons = {};\n    var buttonGroup = document.createElement('div');\n    buttonGroup.classList = 'btn-group';\n    var button;\n    for (var toolbar_ind in mpl.toolbar_items) {\n        var name = mpl.toolbar_items[toolbar_ind][0];\n        var tooltip = mpl.toolbar_items[toolbar_ind][1];\n        var image = mpl.toolbar_items[toolbar_ind][2];\n        var method_name = mpl.toolbar_items[toolbar_ind][3];\n\n        if (!name) {\n            /* Instead of a spacer, we start a new button group. */\n            if (buttonGroup.hasChildNodes()) {\n                toolbar.appendChild(buttonGroup);\n            }\n            buttonGroup = document.createElement('div');\n            buttonGroup.classList = 'btn-group';\n            continue;\n        }\n\n        button = fig.buttons[name] = document.createElement('button');\n        button.classList = 'btn btn-default';\n        button.href = '#';\n        button.title = name;\n        button.innerHTML = '<i class=\"fa ' + image + ' fa-lg\"></i>';\n        button.addEventListener('click', on_click_closure(method_name));\n        button.addEventListener('mouseover', on_mouseover_closure(tooltip));\n        buttonGroup.appendChild(button);\n    }\n\n    if (buttonGroup.hasChildNodes()) {\n        toolbar.appendChild(buttonGroup);\n    }\n\n    // Add the status bar.\n    var status_bar = document.createElement('span');\n    status_bar.classList = 'mpl-message pull-right';\n    toolbar.appendChild(status_bar);\n    this.message = status_bar;\n\n    // Add the close button to the window.\n    var buttongrp = document.createElement('div');\n    buttongrp.classList = 'btn-group inline pull-right';\n    button = document.createElement('button');\n    button.classList = 'btn btn-mini btn-primary';\n    button.href = '#';\n    button.title = 'Stop Interaction';\n    button.innerHTML = '<i class=\"fa fa-power-off icon-remove icon-large\"></i>';\n    button.addEventListener('click', function (_evt) {\n        fig.handle_close(fig, {});\n    });\n    button.addEventListener(\n        'mouseover',\n        on_mouseover_closure('Stop Interaction')\n    );\n    buttongrp.appendChild(button);\n    var titlebar = this.root.querySelector('.ui-dialog-titlebar');\n    titlebar.insertBefore(buttongrp, titlebar.firstChild);\n};\n\nmpl.figure.prototype._remove_fig_handler = function (event) {\n    var fig = event.data.fig;\n    if (event.target !== this) {\n        // Ignore bubbled events from children.\n        return;\n    }\n    fig.close_ws(fig, {});\n};\n\nmpl.figure.prototype._root_extra_style = function (el) {\n    el.style.boxSizing = 'content-box'; // override notebook setting of border-box.\n};\n\nmpl.figure.prototype._canvas_extra_style = function (el) {\n    // this is important to make the div 'focusable\n    el.setAttribute('tabindex', 0);\n    // reach out to IPython and tell the keyboard manager to turn it's self\n    // off when our div gets focus\n\n    // location in version 3\n    if (IPython.notebook.keyboard_manager) {\n        IPython.notebook.keyboard_manager.register_events(el);\n    } else {\n        // location in version 2\n        IPython.keyboard_manager.register_events(el);\n    }\n};\n\nmpl.figure.prototype._key_event_extra = function (event, _name) {\n    // Check for shift+enter\n    if (event.shiftKey && event.which === 13) {\n        this.canvas_div.blur();\n        // select the cell after this one\n        var index = IPython.notebook.find_cell_index(this.cell_info[0]);\n        IPython.notebook.select(index + 1);\n    }\n};\n\nmpl.figure.prototype.handle_save = function (fig, _msg) {\n    fig.ondownload(fig, null);\n};\n\nmpl.find_output_cell = function (html_output) {\n    // Return the cell and output element which can be found *uniquely* in the notebook.\n    // Note - this is a bit hacky, but it is done because the \"notebook_saving.Notebook\"\n    // IPython event is triggered only after the cells have been serialised, which for\n    // our purposes (turning an active figure into a static one), is too late.\n    var cells = IPython.notebook.get_cells();\n    var ncells = cells.length;\n    for (var i = 0; i < ncells; i++) {\n        var cell = cells[i];\n        if (cell.cell_type === 'code') {\n            for (var j = 0; j < cell.output_area.outputs.length; j++) {\n                var data = cell.output_area.outputs[j];\n                if (data.data) {\n                    // IPython >= 3 moved mimebundle to data attribute of output\n                    data = data.data;\n                }\n                if (data['text/html'] === html_output) {\n                    return [cell, data, j];\n                }\n            }\n        }\n    }\n};\n\n// Register the function which deals with the matplotlib target/channel.\n// The kernel may be null if the page has been refreshed.\nif (IPython.notebook.kernel !== null) {\n    IPython.notebook.kernel.comm_manager.register_target(\n        'matplotlib',\n        mpl.mpl_figure_comm\n    );\n}\n",
      "text/plain": [
       "<IPython.core.display.Javascript object>"
      ]
     },
     "metadata": {},
     "output_type": "display_data"
    },
    {
     "data": {
      "text/html": [
       "<div id='7f4dd1fb-9dfa-41c1-9171-a5e825e786e1'></div>"
      ],
      "text/plain": [
       "<IPython.core.display.HTML object>"
      ]
     },
     "metadata": {},
     "output_type": "display_data"
    }
   ],
   "source": [
    "# Define r ranges\n",
    "r12 = np.linspace(mol12.xmin, mol12.xmax, mol12.npts)\n",
    "r23 = np.linspace(mol23.xmin, mol23.xmax, 1000)\n",
    "r31 = np.linspace(mol31.xmin, mol31.xmax, 1000)\n",
    "# Plot PES\n",
    "plt.figure(figsize=(8,6))\n",
    "plt.plot(r12, mol12.Veff(r12), label=r'V$_{H_2}$')\n",
    "plt.hlines(mol12.Ei, mol12.rm, mol12.rp, colors='blue', linestyles='dashed', label=r'$E_i$')\n",
    "plt.plot(r23, mol23.Vij(r23), label=r'V$_{CaH}$')\n",
    "plt.plot(r31, mol31.Vij(r31), label=r'V$_{CaH}$')\n",
    "plt.xlabel(r'r [a$_0$]')\n",
    "plt.ylabel(r'V [E$_H$]')\n",
    "plt.title('Potential Energy Surfaces')\n",
    "plt.legend()\n",
    "plt.savefig('results/PES.png')\n",
    "plt.show()"
   ]
  },
  {
   "cell_type": "markdown",
   "id": "6ed10c9b",
   "metadata": {},
   "source": [
    "We can run a trajectory and obtain an output by initializing a `Trajectory` object and calling `runT`. Then we can use the plotter tool to plot the trajectory in 2d and 3d. "
   ]
  },
  {
   "cell_type": "code",
   "execution_count": 7,
   "id": "e57a8db1",
   "metadata": {},
   "outputs": [
    {
     "name": "stdout",
     "output_type": "stream",
     "text": [
      "1\n",
      "1\n",
      "1\n"
     ]
    },
    {
     "ename": "KeyboardInterrupt",
     "evalue": "",
     "output_type": "error",
     "traceback": [
      "\u001b[1;31m---------------------------------------------------------------------------\u001b[0m",
      "\u001b[1;31mKeyboardInterrupt\u001b[0m                         Traceback (most recent call last)",
      "Cell \u001b[1;32mIn[7], line 3\u001b[0m\n\u001b[0;32m      1\u001b[0m \u001b[38;5;66;03m# Run a single trajectory\u001b[39;00m\n\u001b[0;32m      2\u001b[0m traj \u001b[38;5;241m=\u001b[39m qct\u001b[38;5;241m.\u001b[39mTrajectory(\u001b[38;5;241m*\u001b[39m\u001b[38;5;241m*\u001b[39minput_dict)\n\u001b[1;32m----> 3\u001b[0m \u001b[43mtraj\u001b[49m\u001b[38;5;241;43m.\u001b[39;49m\u001b[43mrunT\u001b[49m\u001b[43m(\u001b[49m\u001b[43m)\u001b[49m\n\u001b[0;32m      5\u001b[0m \u001b[38;5;66;03m# Plot the trajectory in 2D\u001b[39;00m\n\u001b[0;32m      6\u001b[0m plt\u001b[38;5;241m.\u001b[39mfigure(figsize\u001b[38;5;241m=\u001b[39m(\u001b[38;5;241m8\u001b[39m,\u001b[38;5;241m6\u001b[39m))\n",
      "File \u001b[1;32me:\\tasks\\documents_in_pku\\research\\Roaming_NN\\QCAT\\pyqcams\\qct.py:481\u001b[0m, in \u001b[0;36mTrajectory.runT\u001b[1;34m(self)\u001b[0m\n\u001b[0;32m    478\u001b[0m stop3\u001b[38;5;241m.\u001b[39mterminal \u001b[38;5;241m=\u001b[39m \u001b[38;5;28;01mTrue\u001b[39;00m\n\u001b[0;32m    480\u001b[0m tscale \u001b[38;5;241m=\u001b[39m \u001b[38;5;28mself\u001b[39m\u001b[38;5;241m.\u001b[39mR\u001b[38;5;241m/\u001b[39mnp\u001b[38;5;241m.\u001b[39msqrt(\u001b[38;5;241m2\u001b[39m\u001b[38;5;241m*\u001b[39m\u001b[38;5;28mself\u001b[39m\u001b[38;5;241m.\u001b[39mE0\u001b[38;5;241m/\u001b[39m\u001b[38;5;28mself\u001b[39m\u001b[38;5;241m.\u001b[39mmu312)\n\u001b[1;32m--> 481\u001b[0m wsol \u001b[38;5;241m=\u001b[39m \u001b[43msolve_ivp\u001b[49m\u001b[43m(\u001b[49m\u001b[43my0\u001b[49m\u001b[43m \u001b[49m\u001b[38;5;241;43m=\u001b[39;49m\u001b[43m \u001b[49m\u001b[38;5;28;43mself\u001b[39;49m\u001b[38;5;241;43m.\u001b[39;49m\u001b[43mw0\u001b[49m\u001b[43m,\u001b[49m\u001b[43m \u001b[49m\u001b[43mfun\u001b[49m\u001b[43m \u001b[49m\u001b[38;5;241;43m=\u001b[39;49m\u001b[43m \u001b[49m\u001b[38;5;28;43;01mlambda\u001b[39;49;00m\u001b[43m \u001b[49m\u001b[43mt\u001b[49m\u001b[43m,\u001b[49m\u001b[43my\u001b[49m\u001b[43m:\u001b[49m\u001b[43m \u001b[49m\u001b[38;5;28;43mself\u001b[39;49m\u001b[38;5;241;43m.\u001b[39;49m\u001b[43mhamEq\u001b[49m\u001b[43m(\u001b[49m\u001b[43mt\u001b[49m\u001b[43m,\u001b[49m\u001b[43my\u001b[49m\u001b[43m)\u001b[49m\u001b[43m,\u001b[49m\n\u001b[0;32m    482\u001b[0m \u001b[43m                \u001b[49m\u001b[43mt_span\u001b[49m\u001b[43m \u001b[49m\u001b[38;5;241;43m=\u001b[39;49m\u001b[43m \u001b[49m\u001b[43m[\u001b[49m\u001b[38;5;241;43m0\u001b[39;49m\u001b[43m,\u001b[49m\u001b[43mtscale\u001b[49m\u001b[38;5;241;43m*\u001b[39;49m\u001b[38;5;28;43mself\u001b[39;49m\u001b[38;5;241;43m.\u001b[39;49m\u001b[43mt_stop\u001b[49m\u001b[43m]\u001b[49m\u001b[43m,\u001b[49m\u001b[43m \u001b[49m\u001b[43mmethod\u001b[49m\u001b[43m \u001b[49m\u001b[38;5;241;43m=\u001b[39;49m\u001b[43m \u001b[49m\u001b[38;5;124;43m'\u001b[39;49m\u001b[38;5;124;43mRK45\u001b[39;49m\u001b[38;5;124;43m'\u001b[39;49m\u001b[43m,\u001b[49m\n\u001b[0;32m    483\u001b[0m \u001b[43m                \u001b[49m\u001b[43mrtol\u001b[49m\u001b[43m \u001b[49m\u001b[38;5;241;43m=\u001b[39;49m\u001b[43m \u001b[49m\u001b[38;5;28;43mself\u001b[39;49m\u001b[38;5;241;43m.\u001b[39;49m\u001b[43mr_tol\u001b[49m\u001b[43m,\u001b[49m\u001b[43m \u001b[49m\u001b[43matol\u001b[49m\u001b[43m \u001b[49m\u001b[38;5;241;43m=\u001b[39;49m\u001b[43m \u001b[49m\u001b[38;5;28;43mself\u001b[39;49m\u001b[38;5;241;43m.\u001b[39;49m\u001b[43ma_tol\u001b[49m\u001b[43m,\u001b[49m\u001b[43m \u001b[49m\u001b[43mevents\u001b[49m\u001b[43m \u001b[49m\u001b[38;5;241;43m=\u001b[39;49m\u001b[43m \u001b[49m\u001b[43m(\u001b[49m\u001b[43mstop1\u001b[49m\u001b[43m,\u001b[49m\u001b[43mstop2\u001b[49m\u001b[43m,\u001b[49m\u001b[43mstop3\u001b[49m\u001b[43m)\u001b[49m\u001b[43m)\u001b[49m\n\u001b[0;32m    485\u001b[0m \u001b[38;5;28mself\u001b[39m\u001b[38;5;241m.\u001b[39mwn \u001b[38;5;241m=\u001b[39m wsol\u001b[38;5;241m.\u001b[39my\n\u001b[0;32m    486\u001b[0m \u001b[38;5;28mself\u001b[39m\u001b[38;5;241m.\u001b[39mt \u001b[38;5;241m=\u001b[39m wsol\u001b[38;5;241m.\u001b[39mt\n",
      "File \u001b[1;32mc:\\Users\\xumohan\\anaconda3\\envs\\py10\\lib\\site-packages\\scipy\\integrate\\_ivp\\ivp.py:602\u001b[0m, in \u001b[0;36msolve_ivp\u001b[1;34m(fun, t_span, y0, method, t_eval, dense_output, events, vectorized, args, **options)\u001b[0m\n\u001b[0;32m    600\u001b[0m status \u001b[38;5;241m=\u001b[39m \u001b[38;5;28;01mNone\u001b[39;00m\n\u001b[0;32m    601\u001b[0m \u001b[38;5;28;01mwhile\u001b[39;00m status \u001b[38;5;129;01mis\u001b[39;00m \u001b[38;5;28;01mNone\u001b[39;00m:\n\u001b[1;32m--> 602\u001b[0m     message \u001b[38;5;241m=\u001b[39m \u001b[43msolver\u001b[49m\u001b[38;5;241;43m.\u001b[39;49m\u001b[43mstep\u001b[49m\u001b[43m(\u001b[49m\u001b[43m)\u001b[49m\n\u001b[0;32m    604\u001b[0m     \u001b[38;5;28;01mif\u001b[39;00m solver\u001b[38;5;241m.\u001b[39mstatus \u001b[38;5;241m==\u001b[39m \u001b[38;5;124m'\u001b[39m\u001b[38;5;124mfinished\u001b[39m\u001b[38;5;124m'\u001b[39m:\n\u001b[0;32m    605\u001b[0m         status \u001b[38;5;241m=\u001b[39m \u001b[38;5;241m0\u001b[39m\n",
      "File \u001b[1;32mc:\\Users\\xumohan\\anaconda3\\envs\\py10\\lib\\site-packages\\scipy\\integrate\\_ivp\\base.py:197\u001b[0m, in \u001b[0;36mOdeSolver.step\u001b[1;34m(self)\u001b[0m\n\u001b[0;32m    195\u001b[0m \u001b[38;5;28;01melse\u001b[39;00m:\n\u001b[0;32m    196\u001b[0m     t \u001b[38;5;241m=\u001b[39m \u001b[38;5;28mself\u001b[39m\u001b[38;5;241m.\u001b[39mt\n\u001b[1;32m--> 197\u001b[0m     success, message \u001b[38;5;241m=\u001b[39m \u001b[38;5;28;43mself\u001b[39;49m\u001b[38;5;241;43m.\u001b[39;49m\u001b[43m_step_impl\u001b[49m\u001b[43m(\u001b[49m\u001b[43m)\u001b[49m\n\u001b[0;32m    199\u001b[0m     \u001b[38;5;28;01mif\u001b[39;00m \u001b[38;5;129;01mnot\u001b[39;00m success:\n\u001b[0;32m    200\u001b[0m         \u001b[38;5;28mself\u001b[39m\u001b[38;5;241m.\u001b[39mstatus \u001b[38;5;241m=\u001b[39m \u001b[38;5;124m'\u001b[39m\u001b[38;5;124mfailed\u001b[39m\u001b[38;5;124m'\u001b[39m\n",
      "File \u001b[1;32mc:\\Users\\xumohan\\anaconda3\\envs\\py10\\lib\\site-packages\\scipy\\integrate\\_ivp\\rk.py:144\u001b[0m, in \u001b[0;36mRungeKutta._step_impl\u001b[1;34m(self)\u001b[0m\n\u001b[0;32m    141\u001b[0m h \u001b[38;5;241m=\u001b[39m t_new \u001b[38;5;241m-\u001b[39m t\n\u001b[0;32m    142\u001b[0m h_abs \u001b[38;5;241m=\u001b[39m np\u001b[38;5;241m.\u001b[39mabs(h)\n\u001b[1;32m--> 144\u001b[0m y_new, f_new \u001b[38;5;241m=\u001b[39m \u001b[43mrk_step\u001b[49m\u001b[43m(\u001b[49m\u001b[38;5;28;43mself\u001b[39;49m\u001b[38;5;241;43m.\u001b[39;49m\u001b[43mfun\u001b[49m\u001b[43m,\u001b[49m\u001b[43m \u001b[49m\u001b[43mt\u001b[49m\u001b[43m,\u001b[49m\u001b[43m \u001b[49m\u001b[43my\u001b[49m\u001b[43m,\u001b[49m\u001b[43m \u001b[49m\u001b[38;5;28;43mself\u001b[39;49m\u001b[38;5;241;43m.\u001b[39;49m\u001b[43mf\u001b[49m\u001b[43m,\u001b[49m\u001b[43m \u001b[49m\u001b[43mh\u001b[49m\u001b[43m,\u001b[49m\u001b[43m \u001b[49m\u001b[38;5;28;43mself\u001b[39;49m\u001b[38;5;241;43m.\u001b[39;49m\u001b[43mA\u001b[49m\u001b[43m,\u001b[49m\n\u001b[0;32m    145\u001b[0m \u001b[43m                       \u001b[49m\u001b[38;5;28;43mself\u001b[39;49m\u001b[38;5;241;43m.\u001b[39;49m\u001b[43mB\u001b[49m\u001b[43m,\u001b[49m\u001b[43m \u001b[49m\u001b[38;5;28;43mself\u001b[39;49m\u001b[38;5;241;43m.\u001b[39;49m\u001b[43mC\u001b[49m\u001b[43m,\u001b[49m\u001b[43m \u001b[49m\u001b[38;5;28;43mself\u001b[39;49m\u001b[38;5;241;43m.\u001b[39;49m\u001b[43mK\u001b[49m\u001b[43m)\u001b[49m\n\u001b[0;32m    146\u001b[0m scale \u001b[38;5;241m=\u001b[39m atol \u001b[38;5;241m+\u001b[39m np\u001b[38;5;241m.\u001b[39mmaximum(np\u001b[38;5;241m.\u001b[39mabs(y), np\u001b[38;5;241m.\u001b[39mabs(y_new)) \u001b[38;5;241m*\u001b[39m rtol\n\u001b[0;32m    147\u001b[0m error_norm \u001b[38;5;241m=\u001b[39m \u001b[38;5;28mself\u001b[39m\u001b[38;5;241m.\u001b[39m_estimate_error_norm(\u001b[38;5;28mself\u001b[39m\u001b[38;5;241m.\u001b[39mK, h, scale)\n",
      "File \u001b[1;32mc:\\Users\\xumohan\\anaconda3\\envs\\py10\\lib\\site-packages\\scipy\\integrate\\_ivp\\rk.py:67\u001b[0m, in \u001b[0;36mrk_step\u001b[1;34m(fun, t, y, f, h, A, B, C, K)\u001b[0m\n\u001b[0;32m     64\u001b[0m     K[s] \u001b[38;5;241m=\u001b[39m fun(t \u001b[38;5;241m+\u001b[39m c \u001b[38;5;241m*\u001b[39m h, y \u001b[38;5;241m+\u001b[39m dy)\n\u001b[0;32m     66\u001b[0m y_new \u001b[38;5;241m=\u001b[39m y \u001b[38;5;241m+\u001b[39m h \u001b[38;5;241m*\u001b[39m np\u001b[38;5;241m.\u001b[39mdot(K[:\u001b[38;5;241m-\u001b[39m\u001b[38;5;241m1\u001b[39m]\u001b[38;5;241m.\u001b[39mT, B)\n\u001b[1;32m---> 67\u001b[0m f_new \u001b[38;5;241m=\u001b[39m \u001b[43mfun\u001b[49m\u001b[43m(\u001b[49m\u001b[43mt\u001b[49m\u001b[43m \u001b[49m\u001b[38;5;241;43m+\u001b[39;49m\u001b[43m \u001b[49m\u001b[43mh\u001b[49m\u001b[43m,\u001b[49m\u001b[43m \u001b[49m\u001b[43my_new\u001b[49m\u001b[43m)\u001b[49m\n\u001b[0;32m     69\u001b[0m K[\u001b[38;5;241m-\u001b[39m\u001b[38;5;241m1\u001b[39m] \u001b[38;5;241m=\u001b[39m f_new\n\u001b[0;32m     71\u001b[0m \u001b[38;5;28;01mreturn\u001b[39;00m y_new, f_new\n",
      "File \u001b[1;32mc:\\Users\\xumohan\\anaconda3\\envs\\py10\\lib\\site-packages\\scipy\\integrate\\_ivp\\base.py:154\u001b[0m, in \u001b[0;36mOdeSolver.__init__.<locals>.fun\u001b[1;34m(t, y)\u001b[0m\n\u001b[0;32m    152\u001b[0m \u001b[38;5;28;01mdef\u001b[39;00m \u001b[38;5;21mfun\u001b[39m(t, y):\n\u001b[0;32m    153\u001b[0m     \u001b[38;5;28mself\u001b[39m\u001b[38;5;241m.\u001b[39mnfev \u001b[38;5;241m+\u001b[39m\u001b[38;5;241m=\u001b[39m \u001b[38;5;241m1\u001b[39m\n\u001b[1;32m--> 154\u001b[0m     \u001b[38;5;28;01mreturn\u001b[39;00m \u001b[38;5;28;43mself\u001b[39;49m\u001b[38;5;241;43m.\u001b[39;49m\u001b[43mfun_single\u001b[49m\u001b[43m(\u001b[49m\u001b[43mt\u001b[49m\u001b[43m,\u001b[49m\u001b[43m \u001b[49m\u001b[43my\u001b[49m\u001b[43m)\u001b[49m\n",
      "File \u001b[1;32mc:\\Users\\xumohan\\anaconda3\\envs\\py10\\lib\\site-packages\\scipy\\integrate\\_ivp\\base.py:23\u001b[0m, in \u001b[0;36mcheck_arguments.<locals>.fun_wrapped\u001b[1;34m(t, y)\u001b[0m\n\u001b[0;32m     22\u001b[0m \u001b[38;5;28;01mdef\u001b[39;00m \u001b[38;5;21mfun_wrapped\u001b[39m(t, y):\n\u001b[1;32m---> 23\u001b[0m     \u001b[38;5;28;01mreturn\u001b[39;00m np\u001b[38;5;241m.\u001b[39masarray(\u001b[43mfun\u001b[49m\u001b[43m(\u001b[49m\u001b[43mt\u001b[49m\u001b[43m,\u001b[49m\u001b[43m \u001b[49m\u001b[43my\u001b[49m\u001b[43m)\u001b[49m, dtype\u001b[38;5;241m=\u001b[39mdtype)\n",
      "File \u001b[1;32me:\\tasks\\documents_in_pku\\research\\Roaming_NN\\QCAT\\pyqcams\\qct.py:481\u001b[0m, in \u001b[0;36mTrajectory.runT.<locals>.<lambda>\u001b[1;34m(t, y)\u001b[0m\n\u001b[0;32m    478\u001b[0m stop3\u001b[38;5;241m.\u001b[39mterminal \u001b[38;5;241m=\u001b[39m \u001b[38;5;28;01mTrue\u001b[39;00m\n\u001b[0;32m    480\u001b[0m tscale \u001b[38;5;241m=\u001b[39m \u001b[38;5;28mself\u001b[39m\u001b[38;5;241m.\u001b[39mR\u001b[38;5;241m/\u001b[39mnp\u001b[38;5;241m.\u001b[39msqrt(\u001b[38;5;241m2\u001b[39m\u001b[38;5;241m*\u001b[39m\u001b[38;5;28mself\u001b[39m\u001b[38;5;241m.\u001b[39mE0\u001b[38;5;241m/\u001b[39m\u001b[38;5;28mself\u001b[39m\u001b[38;5;241m.\u001b[39mmu312)\n\u001b[1;32m--> 481\u001b[0m wsol \u001b[38;5;241m=\u001b[39m solve_ivp(y0 \u001b[38;5;241m=\u001b[39m \u001b[38;5;28mself\u001b[39m\u001b[38;5;241m.\u001b[39mw0, fun \u001b[38;5;241m=\u001b[39m \u001b[38;5;28;01mlambda\u001b[39;00m t,y: \u001b[38;5;28;43mself\u001b[39;49m\u001b[38;5;241;43m.\u001b[39;49m\u001b[43mhamEq\u001b[49m\u001b[43m(\u001b[49m\u001b[43mt\u001b[49m\u001b[43m,\u001b[49m\u001b[43my\u001b[49m\u001b[43m)\u001b[49m,\n\u001b[0;32m    482\u001b[0m                 t_span \u001b[38;5;241m=\u001b[39m [\u001b[38;5;241m0\u001b[39m,tscale\u001b[38;5;241m*\u001b[39m\u001b[38;5;28mself\u001b[39m\u001b[38;5;241m.\u001b[39mt_stop], method \u001b[38;5;241m=\u001b[39m \u001b[38;5;124m'\u001b[39m\u001b[38;5;124mRK45\u001b[39m\u001b[38;5;124m'\u001b[39m,\n\u001b[0;32m    483\u001b[0m                 rtol \u001b[38;5;241m=\u001b[39m \u001b[38;5;28mself\u001b[39m\u001b[38;5;241m.\u001b[39mr_tol, atol \u001b[38;5;241m=\u001b[39m \u001b[38;5;28mself\u001b[39m\u001b[38;5;241m.\u001b[39ma_tol, events \u001b[38;5;241m=\u001b[39m (stop1,stop2,stop3))\n\u001b[0;32m    485\u001b[0m \u001b[38;5;28mself\u001b[39m\u001b[38;5;241m.\u001b[39mwn \u001b[38;5;241m=\u001b[39m wsol\u001b[38;5;241m.\u001b[39my\n\u001b[0;32m    486\u001b[0m \u001b[38;5;28mself\u001b[39m\u001b[38;5;241m.\u001b[39mt \u001b[38;5;241m=\u001b[39m wsol\u001b[38;5;241m.\u001b[39mt\n",
      "File \u001b[1;32me:\\tasks\\documents_in_pku\\research\\Roaming_NN\\QCAT\\pyqcams\\qct.py:418\u001b[0m, in \u001b[0;36mTrajectory.hamEq\u001b[1;34m(self, t, w)\u001b[0m\n\u001b[0;32m    416\u001b[0m \u001b[38;5;66;03m# Three-body potential derivatives\u001b[39;00m\n\u001b[0;32m    417\u001b[0m dvtdr12_value \u001b[38;5;241m=\u001b[39m \u001b[38;5;28mself\u001b[39m\u001b[38;5;241m.\u001b[39mdvtdr12(r12, r23, r31)\n\u001b[1;32m--> 418\u001b[0m dvtdr23_value \u001b[38;5;241m=\u001b[39m \u001b[38;5;28;43mself\u001b[39;49m\u001b[38;5;241;43m.\u001b[39;49m\u001b[43mdvtdr23\u001b[49m\u001b[43m(\u001b[49m\u001b[43mr12\u001b[49m\u001b[43m,\u001b[49m\u001b[43m \u001b[49m\u001b[43mr23\u001b[49m\u001b[43m,\u001b[49m\u001b[43m \u001b[49m\u001b[43mr31\u001b[49m\u001b[43m)\u001b[49m\n\u001b[0;32m    419\u001b[0m dvtdr31_value \u001b[38;5;241m=\u001b[39m \u001b[38;5;28mself\u001b[39m\u001b[38;5;241m.\u001b[39mdvtdr31(r12, r23, r31)\n\u001b[0;32m    420\u001b[0m \u001b[38;5;66;03m# Hamilton's equations (pdot)\u001b[39;00m\n\u001b[0;32m    421\u001b[0m \u001b[38;5;66;03m# Hamilton's equations (pdot)\u001b[39;00m\n",
      "File \u001b[1;32me:\\tasks\\documents_in_pku\\research\\Roaming_NN\\QCAT\\pyqcams\\potentials.py:161\u001b[0m, in \u001b[0;36mmlp_potential_function.<locals>.dVdr23\u001b[1;34m(r12, r23, r31)\u001b[0m\n\u001b[0;32m    160\u001b[0m \u001b[38;5;28;01mdef\u001b[39;00m \u001b[38;5;21mdVdr23\u001b[39m(r12, r23, r31):\n\u001b[1;32m--> 161\u001b[0m     \u001b[38;5;28;01mreturn\u001b[39;00m \u001b[43mcompute_derivative\u001b[49m\u001b[43m(\u001b[49m\u001b[43mr12\u001b[49m\u001b[43m,\u001b[49m\u001b[43m \u001b[49m\u001b[43mr23\u001b[49m\u001b[43m,\u001b[49m\u001b[43m \u001b[49m\u001b[43mr31\u001b[49m\u001b[43m,\u001b[49m\u001b[43m \u001b[49m\u001b[43mindex\u001b[49m\u001b[38;5;241;43m=\u001b[39;49m\u001b[38;5;241;43m1\u001b[39;49m\u001b[43m)\u001b[49m\n",
      "File \u001b[1;32me:\\tasks\\documents_in_pku\\research\\Roaming_NN\\QCAT\\pyqcams\\potentials.py:149\u001b[0m, in \u001b[0;36mmlp_potential_function.<locals>.compute_derivative\u001b[1;34m(r12, r23, r31, index)\u001b[0m\n\u001b[0;32m    147\u001b[0m inputs \u001b[38;5;241m=\u001b[39m torch\u001b[38;5;241m.\u001b[39mtensor(r, dtype\u001b[38;5;241m=\u001b[39mtorch\u001b[38;5;241m.\u001b[39mfloat32, requires_grad\u001b[38;5;241m=\u001b[39m\u001b[38;5;28;01mTrue\u001b[39;00m)\n\u001b[0;32m    148\u001b[0m outputs \u001b[38;5;241m=\u001b[39m model(inputs)\n\u001b[1;32m--> 149\u001b[0m \u001b[43moutputs\u001b[49m\u001b[38;5;241;43m.\u001b[39;49m\u001b[43mbackward\u001b[49m\u001b[43m(\u001b[49m\u001b[43mtorch\u001b[49m\u001b[38;5;241;43m.\u001b[39;49m\u001b[43mones_like\u001b[49m\u001b[43m(\u001b[49m\u001b[43moutputs\u001b[49m\u001b[43m)\u001b[49m\u001b[43m)\u001b[49m\n\u001b[0;32m    150\u001b[0m grads \u001b[38;5;241m=\u001b[39m inputs\u001b[38;5;241m.\u001b[39mgrad\u001b[38;5;241m.\u001b[39mdetach()\u001b[38;5;241m.\u001b[39mnumpy()\n\u001b[0;32m    151\u001b[0m derivative \u001b[38;5;241m=\u001b[39m grads[:, index]\n",
      "File \u001b[1;32mc:\\Users\\xumohan\\anaconda3\\envs\\py10\\lib\\site-packages\\torch\\_tensor.py:522\u001b[0m, in \u001b[0;36mTensor.backward\u001b[1;34m(self, gradient, retain_graph, create_graph, inputs)\u001b[0m\n\u001b[0;32m    512\u001b[0m \u001b[38;5;28;01mif\u001b[39;00m has_torch_function_unary(\u001b[38;5;28mself\u001b[39m):\n\u001b[0;32m    513\u001b[0m     \u001b[38;5;28;01mreturn\u001b[39;00m handle_torch_function(\n\u001b[0;32m    514\u001b[0m         Tensor\u001b[38;5;241m.\u001b[39mbackward,\n\u001b[0;32m    515\u001b[0m         (\u001b[38;5;28mself\u001b[39m,),\n\u001b[1;32m   (...)\u001b[0m\n\u001b[0;32m    520\u001b[0m         inputs\u001b[38;5;241m=\u001b[39minputs,\n\u001b[0;32m    521\u001b[0m     )\n\u001b[1;32m--> 522\u001b[0m \u001b[43mtorch\u001b[49m\u001b[38;5;241;43m.\u001b[39;49m\u001b[43mautograd\u001b[49m\u001b[38;5;241;43m.\u001b[39;49m\u001b[43mbackward\u001b[49m\u001b[43m(\u001b[49m\n\u001b[0;32m    523\u001b[0m \u001b[43m    \u001b[49m\u001b[38;5;28;43mself\u001b[39;49m\u001b[43m,\u001b[49m\u001b[43m \u001b[49m\u001b[43mgradient\u001b[49m\u001b[43m,\u001b[49m\u001b[43m \u001b[49m\u001b[43mretain_graph\u001b[49m\u001b[43m,\u001b[49m\u001b[43m \u001b[49m\u001b[43mcreate_graph\u001b[49m\u001b[43m,\u001b[49m\u001b[43m \u001b[49m\u001b[43minputs\u001b[49m\u001b[38;5;241;43m=\u001b[39;49m\u001b[43minputs\u001b[49m\n\u001b[0;32m    524\u001b[0m \u001b[43m\u001b[49m\u001b[43m)\u001b[49m\n",
      "File \u001b[1;32mc:\\Users\\xumohan\\anaconda3\\envs\\py10\\lib\\site-packages\\torch\\autograd\\__init__.py:266\u001b[0m, in \u001b[0;36mbackward\u001b[1;34m(tensors, grad_tensors, retain_graph, create_graph, grad_variables, inputs)\u001b[0m\n\u001b[0;32m    261\u001b[0m     retain_graph \u001b[38;5;241m=\u001b[39m create_graph\n\u001b[0;32m    263\u001b[0m \u001b[38;5;66;03m# The reason we repeat the same comment below is that\u001b[39;00m\n\u001b[0;32m    264\u001b[0m \u001b[38;5;66;03m# some Python versions print out the first line of a multi-line function\u001b[39;00m\n\u001b[0;32m    265\u001b[0m \u001b[38;5;66;03m# calls in the traceback and some print out the last line\u001b[39;00m\n\u001b[1;32m--> 266\u001b[0m \u001b[43mVariable\u001b[49m\u001b[38;5;241;43m.\u001b[39;49m\u001b[43m_execution_engine\u001b[49m\u001b[38;5;241;43m.\u001b[39;49m\u001b[43mrun_backward\u001b[49m\u001b[43m(\u001b[49m\u001b[43m  \u001b[49m\u001b[38;5;66;43;03m# Calls into the C++ engine to run the backward pass\u001b[39;49;00m\n\u001b[0;32m    267\u001b[0m \u001b[43m    \u001b[49m\u001b[43mtensors\u001b[49m\u001b[43m,\u001b[49m\n\u001b[0;32m    268\u001b[0m \u001b[43m    \u001b[49m\u001b[43mgrad_tensors_\u001b[49m\u001b[43m,\u001b[49m\n\u001b[0;32m    269\u001b[0m \u001b[43m    \u001b[49m\u001b[43mretain_graph\u001b[49m\u001b[43m,\u001b[49m\n\u001b[0;32m    270\u001b[0m \u001b[43m    \u001b[49m\u001b[43mcreate_graph\u001b[49m\u001b[43m,\u001b[49m\n\u001b[0;32m    271\u001b[0m \u001b[43m    \u001b[49m\u001b[43minputs\u001b[49m\u001b[43m,\u001b[49m\n\u001b[0;32m    272\u001b[0m \u001b[43m    \u001b[49m\u001b[43mallow_unreachable\u001b[49m\u001b[38;5;241;43m=\u001b[39;49m\u001b[38;5;28;43;01mTrue\u001b[39;49;00m\u001b[43m,\u001b[49m\n\u001b[0;32m    273\u001b[0m \u001b[43m    \u001b[49m\u001b[43maccumulate_grad\u001b[49m\u001b[38;5;241;43m=\u001b[39;49m\u001b[38;5;28;43;01mTrue\u001b[39;49;00m\u001b[43m,\u001b[49m\n\u001b[0;32m    274\u001b[0m \u001b[43m\u001b[49m\u001b[43m)\u001b[49m\n",
      "\u001b[1;31mKeyboardInterrupt\u001b[0m: "
     ]
    }
   ],
   "source": [
    "# Run a single trajectory\n",
    "traj = qct.Trajectory(**input_dict)\n",
    "traj.runT()\n",
    "\n",
    "# Plot the trajectory in 2D\n",
    "plt.figure(figsize=(8,6))\n",
    "plotters.traj_plt(traj)\n",
    "plt.title('Trajectory Plot')\n",
    "plt.savefig('results/QCT_2D.png')\n",
    "plt.show()\n",
    "\n",
    "# Plot the trajectory in 3D\n",
    "plt.figure(figsize=(8,6))\n",
    "plotters.traj_3d(traj)\n",
    "plt.title('Trajectory 3D Plot')\n",
    "plt.savefig('results/QCT_3D.png')\n",
    "plt.show()\n",
    "\n",
    "# Get and print results\n",
    "attrs = ('delta_e', 'delta_l')\n",
    "results = util.get_results(traj, *attrs)\n",
    "print(\"Single Trajectory Results:\", results)\n"
   ]
  },
  {
   "cell_type": "markdown",
   "id": "2741fdf0",
   "metadata": {},
   "source": [
    "We can inspect the results using `util.get_results`, including any extra attributes such as `delta_e` and `delta_l`. "
   ]
  },
  {
   "cell_type": "code",
   "execution_count": null,
   "id": "a345491d",
   "metadata": {},
   "outputs": [],
   "source": [
    "attrs = ('delta_e','delta_l')\n",
    "print(util.get_results(traj, *attrs))"
   ]
  },
  {
   "cell_type": "markdown",
   "id": "18ab5762",
   "metadata": {},
   "source": [
    "## Plotting all products\n",
    "The trajectory can end with three possibilities:\n",
    "1. Quenching: Ca + H$_2$ $\\rightarrow$ Ca + H$_2$\n",
    "2. Reaction: Ca + H$_2$ $\\rightarrow$ CaH + H\n",
    "3. Dissociation: Ca + H$_2$ $\\rightarrow$ Ca + H + H"
   ]
  },
  {
   "cell_type": "code",
   "execution_count": null,
   "id": "149b82fa",
   "metadata": {},
   "outputs": [],
   "source": [
    "# Run and filter trajectories for quenching\n",
    "quench = qct.Trajectory(**input_dict)\n",
    "quench.runT()\n",
    "n = 0\n",
    "while (quench.count.get('dissociation', 0) == 0) and n < 100:  # Adjust key as per 'dissociation_channels'\n",
    "    quench.runT()\n",
    "    n += 1\n",
    "print(f\"Quenching Trajectory Attempts: {n}, Counts: {quench.count}\")"
   ]
  },
  {
   "cell_type": "code",
   "execution_count": null,
   "id": "ccc6059b",
   "metadata": {},
   "outputs": [],
   "source": [
    "# Run and filter trajectories for reaction\n",
    "react = qct.Trajectory(**input_dict)\n",
    "react.runT()\n",
    "n = 0\n",
    "while (react.count.get('SO+', 0) == 0 and react.count.get('O', 0) == 0) and n < 100:\n",
    "    react.runT()\n",
    "    n += 1\n",
    "print(f\"Reaction Trajectory Attempts: {n}, Counts: {react.count}\")"
   ]
  },
  {
   "cell_type": "code",
   "execution_count": null,
   "id": "e41fa0f9",
   "metadata": {},
   "outputs": [],
   "source": [
    "# Run and filter trajectories for dissociation\n",
    "diss = qct.Trajectory(**input_dict)\n",
    "diss.runT()\n",
    "n = 0\n",
    "while (diss.count.get('dissociation', 0) == 0) and n < 100:\n",
    "    diss.runT()\n",
    "    n += 1\n",
    "print(f\"Dissociation Trajectory Attempts: {n}, Counts: {diss.count}\")"
   ]
  },
  {
   "cell_type": "code",
   "execution_count": null,
   "id": "4b2b6777",
   "metadata": {},
   "outputs": [],
   "source": [
    "# Plot all products\n",
    "fig, ax = plt.subplots(1, 3, sharey=True, figsize=(15,5))\n",
    "plotters.traj_plt(diss, title=False, legend=True, ax=ax[0])\n",
    "plotters.traj_plt(react, title=False, legend=False, ax=ax[1])\n",
    "plotters.traj_plt(quench, title=False, legend=False, ax=ax[2])\n",
    "plt.subplots_adjust(wspace=0, bottom=0.15)\n",
    "for i, subplot in enumerate(ax):\n",
    "    subplot.set_xlabel('t (ps)')\n",
    "ax[1].set_ylabel('')\n",
    "ax[2].set_ylabel('')\n",
    "plt.savefig('results/all_products.png')\n",
    "plt.show()"
   ]
  },
  {
   "cell_type": "markdown",
   "id": "37d76322",
   "metadata": {},
   "source": [
    "## Parallel Run\n",
    "For the same initial state, use the `runN` method to run `nTraj` number of trajectories using all available CPUs. This can be controlled with the `cpus` argument. You can save to short and long output files, and request `Trajectory` attributes with argument `attrs` to save them to the long output. This can be done directly in the input file. "
   ]
  },
  {
   "cell_type": "code",
   "execution_count": null,
   "id": "2edbb5d8",
   "metadata": {},
   "outputs": [],
   "source": [
    "# Run multiple trajectories\n",
    "nTraj = 100  # Adjust as needed\n",
    "full_results, counts = qct.runN(\n",
    "    nTraj, \n",
    "    input_dict, \n",
    "    cpus=8, \n",
    "    short_out='short_output.csv', \n",
    "    long_out='long_output.csv'\n",
    ")\n",
    "print(\"Multiple Trajectories Counts:\", counts)\n",
    "\n",
    "# Perform analysis\n",
    "opacity_df = analysis.opacity(\n",
    "    'long_output.csv', \n",
    "    GB=True, \n",
    "    vib=True, \n",
    "    rot=True, \n",
    "    output='opacity.csv'\n",
    ")\n",
    "cross_section_df = analysis.crossSection(\n",
    "    opacity_df, \n",
    "    GB=True, \n",
    "    vib=True, \n",
    "    rot=True, \n",
    "    output='cross_section.csv'\n",
    ")\n",
    "rate_coefficients_df = analysis.rate(\n",
    "    cross_section_df, \n",
    "    mu=1.0, \n",
    "    GB=True, \n",
    "    vib=True, \n",
    "    rot=True, \n",
    "    output='rate_coefficients.csv'\n",
    ")\n",
    "\n",
    "# Visualize cross sections\n",
    "plt.figure(figsize=(8,6))\n",
    "plt.errorbar(\n",
    "    cross_section_df['e'], \n",
    "    cross_section_df['sig_R'], \n",
    "    yerr=cross_section_df['sig_Rerr'], \n",
    "    label='Reaction Cross Section'\n",
    ")\n",
    "plt.errorbar(\n",
    "    cross_section_df['e'], \n",
    "    cross_section_df['sig_Q'], \n",
    "    yerr=cross_section_df['sig_Qerr'], \n",
    "    label='Quenching Cross Section'\n",
    ")\n",
    "plt.errorbar(\n",
    "    cross_section_df['e'], \n",
    "    cross_section_df['sig_Diss'], \n",
    "    yerr=cross_section_df['sig_Diss_err'], \n",
    "    label='Dissociation Cross Section'\n",
    ")\n",
    "plt.xlabel('Energy (K)')\n",
    "plt.ylabel('Cross Section (cm²)')\n",
    "plt.title('Cross Sections vs Energy')\n",
    "plt.legend()\n",
    "plt.savefig('results/Cross_Sections.png')\n",
    "plt.show()\n",
    "\n",
    "# Visualize rate coefficients\n",
    "plt.figure(figsize=(8,6))\n",
    "plt.errorbar(\n",
    "    rate_coefficients_df['e'], \n",
    "    rate_coefficients_df['k_R'], \n",
    "    yerr=rate_coefficients_df['k_Rerr'], \n",
    "    label='Reaction Rate Coefficient'\n",
    ")\n",
    "plt.errorbar(\n",
    "    rate_coefficients_df['e'], \n",
    "    rate_coefficients_df['k_Q'], \n",
    "    yerr=rate_coefficients_df['k_Qerr'], \n",
    "    label='Quenching Rate Coefficient'\n",
    ")\n",
    "plt.errorbar(\n",
    "    rate_coefficients_df['e'], \n",
    "    rate_coefficients_df['k_Diss'], \n",
    "    yerr=rate_coefficients_df['k_Diss_err'], \n",
    "    label='Dissociation Rate Coefficient'\n",
    ")\n",
    "plt.xlabel('Energy (K)')\n",
    "plt.ylabel('Rate Coefficient (cm³/s)')\n",
    "plt.title('Rate Coefficients vs Energy')\n",
    "plt.legend()\n",
    "plt.savefig('results/Rate_Coefficients.png')\n",
    "plt.show()\n"
   ]
  },
  {
   "cell_type": "markdown",
   "id": "a4c298d4",
   "metadata": {},
   "source": [
    "## Analysis\n",
    "Use the provided analysis functions for the state-specific opacity,cross section, and rate coefficients of the reaction. The columns are indexed according to the final outcome, where `R` represents a reaction, `Q` represents quenching, and `Diss` represents dissociation. The error is also included for each outcome. In this example we use Gaussian Binning, and look for the vibrational state-specific results from H$_2$ initialized in the (v=0,j=0) state. "
   ]
  },
  {
   "cell_type": "code",
   "execution_count": null,
   "id": "a2d70885",
   "metadata": {},
   "outputs": [],
   "source": [
    "mu = m3*(m1+m2)/(m1+m2+m3)\n",
    "# Paths to simulation results\n",
    "long_output_path = 'results/long_output.csv'  # Adjust if different\n",
    "short_output_path = 'results/short_output.csv'  # Adjust if different\n",
    "\n",
    "# Calculate Opacity\n",
    "opacity = analysis.opacity(long_output_path, GB=True, vib=True, rot=False)\n",
    "\n",
    "# Calculate Cross Section\n",
    "sigma = analysis.crossSection(long_output_path, GB=True, vib=True, rot=False)\n",
    "\n",
    "# Calculate Rate Coefficient\n",
    "rate = analysis.rate(long_output_path, mu=mu, GB=True, vib=True, rot=False)\n"
   ]
  },
  {
   "cell_type": "code",
   "execution_count": null,
   "id": "d6250368",
   "metadata": {},
   "outputs": [],
   "source": [
    "opacity.head()"
   ]
  },
  {
   "cell_type": "markdown",
   "id": "3ef3563f",
   "metadata": {},
   "source": [
    "Check that the opacity function is continuous, with a clearly defined maximum impact parameter. Here we sum over the final v states to get the full opacity at a given collision energy."
   ]
  },
  {
   "cell_type": "code",
   "execution_count": null,
   "id": "4f42c6f6",
   "metadata": {},
   "outputs": [],
   "source": [
    "# Reset index if necessary\n",
    "o = opacity.reset_index()\n",
    "\n",
    "# Group by vibrational state, rotational state, energy, and impact parameter, then sum pR\n",
    "pR = o.groupby(['vi', 'ji', 'e', 'b'])['pR'].sum().reset_index()\n",
    "\n",
    "# Plot pR vs b for each energy level\n",
    "plt.figure(figsize=(8,6))\n",
    "for ev in pR['e'].unique():\n",
    "    pR_e = pR[pR['e'] == ev]\n",
    "    plt.plot(pR_e['b'], pR_e['pR'], '.', label=f'E = {ev} K')\n",
    "plt.xlabel('Impact Parameter (b)')\n",
    "plt.ylabel('Probability of Reaction (pR)')\n",
    "plt.title('Reaction Probability vs Impact Parameter for Different Energies')\n",
    "plt.legend()\n",
    "plt.grid(True)\n",
    "plt.savefig('results/Reaction_Probability_vs_Impact_Parameter.png')\n",
    "plt.show()"
   ]
  },
  {
   "cell_type": "markdown",
   "id": "51d28e00",
   "metadata": {},
   "source": [
    "Since we kept track of the final vibrational states, we can look into the distribution of CaH(v$_f$,j)."
   ]
  },
  {
   "cell_type": "code",
   "execution_count": null,
   "id": "4096186f",
   "metadata": {},
   "outputs": [],
   "source": [
    "# Reset index to make 'e' a column if it's part of the index\n",
    "if 'e' in rate.index.names:\n",
    "    r = rate.reset_index('e')\n",
    "else:\n",
    "    r = rate.copy()\n",
    "\n",
    "# Plot rate coefficients vs vibrational state for each energy\n",
    "plt.figure(figsize=(8,6))\n",
    "for ev in r['e'].unique():\n",
    "    re = r[r['e'] == ev]\n",
    "    plt.errorbar(re['v'], re['k_R'], re['k_Rerr'], fmt='o', capsize=3, label=f'E = {ev:.1f} K')\n",
    "plt.xlabel('Final Vibrational State (v_f)')\n",
    "plt.ylabel(r'Rate Coefficient $k_R$ [$\\mathrm{cm^3/s}$]')\n",
    "plt.title('Rate Coefficients vs Final Vibrational State for Different Energies')\n",
    "plt.legend()\n",
    "plt.grid(True)\n",
    "plt.savefig('results/Rate_Coefficients_vs_Vibrational_State.png')\n",
    "plt.show()"
   ]
  },
  {
   "cell_type": "markdown",
   "id": "a0b77670",
   "metadata": {},
   "source": [
    "To inspect the role of initial vibrational state of H2 in the reaction, we calculate general rates (not state-specific). Here we use a previously calculated opacity file that varies with initial vibrational state."
   ]
  },
  {
   "cell_type": "code",
   "execution_count": null,
   "id": "09b50224",
   "metadata": {},
   "outputs": [],
   "source": [
    "opacity_file_path = 'results/opacity.txt'  # Adjust if different\n",
    "\n",
    "# Check if the file exists\n",
    "if os.path.exists(opacity_file_path):\n",
    "    opacity_reloaded = pd.read_csv(opacity_file_path)\n",
    "    opacity_reloaded = opacity_reloaded.set_index(['vi', 'ji', 'e', 'b'])\n",
    "    \n",
    "    # Recalculate rate coefficients\n",
    "    rates = analysis.rate(opacity_reloaded, mu=mu).reset_index()\n",
    "    \n",
    "    # Filter for positive reaction rates\n",
    "    rates = rates[rates['k_R'] > 0]\n",
    "    \n",
    "    # Plot rate coefficients vs energy for each initial vibrational state\n",
    "    plt.figure(figsize=(8,6))\n",
    "    for v in rates['vi'].unique():\n",
    "        r = rates[rates['vi'] == v]\n",
    "        plt.errorbar(r['e'], r['k_R'], r['k_Rerr'], fmt='.--', capsize=3, label=f'vi = {v}')\n",
    "    plt.xscale('log')\n",
    "    plt.yscale('log')\n",
    "    plt.xlabel('Energy (K)')\n",
    "    plt.ylabel(r'Rate Coefficient $k_R$ [$\\mathrm{cm^3/s}$]')\n",
    "    plt.title('Rate Coefficients vs Energy for Different Initial Vibrational States')\n",
    "    plt.legend()\n",
    "    plt.grid(True, which=\"both\", ls=\"--\")\n",
    "    plt.tick_params(which='both', direction='in')\n",
    "    plt.savefig('results/Rate_Coefficients_vs_Energy.png')\n",
    "    plt.show()\n",
    "else:\n",
    "    print(f\"Opacity file '{opacity_file_path}' not found. Skipping this step.\")"
   ]
  },
  {
   "cell_type": "code",
   "execution_count": null,
   "id": "7ebaa104",
   "metadata": {},
   "outputs": [],
   "source": []
  }
 ],
 "metadata": {
  "kernelspec": {
   "display_name": "py10",
   "language": "python",
   "name": "python3"
  },
  "language_info": {
   "codemirror_mode": {
    "name": "ipython",
    "version": 3
   },
   "file_extension": ".py",
   "mimetype": "text/x-python",
   "name": "python",
   "nbconvert_exporter": "python",
   "pygments_lexer": "ipython3",
   "version": "3.10.13"
  }
 },
 "nbformat": 4,
 "nbformat_minor": 5
}
